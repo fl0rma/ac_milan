{
 "cells": [
  {
   "cell_type": "markdown",
   "id": "9fa492c8-e7c1-4c84-8816-a8897b1b8586",
   "metadata": {},
   "source": [
    "# FIFA Moneyball"
   ]
  },
  {
   "cell_type": "code",
   "execution_count": null,
   "id": "b3f5b78e-ab34-4f7d-904a-c3ec5f57c657",
   "metadata": {},
   "outputs": [],
   "source": [
    "# Libraries\n",
    "import random\n",
    "import pandas as pd\n",
    "import numpy as np\n",
    "import matplotlib.pyplot as plt\n",
    "import re\n",
    "import seaborn as sns"
   ]
  },
  {
   "cell_type": "code",
   "execution_count": null,
   "id": "ed0edd32-649b-4fc1-bc5c-def451576b65",
   "metadata": {},
   "outputs": [],
   "source": [
    "#Read the dataset provided\n",
    "\n",
    "all_players = pd.read_csv(\"./fifa21_male2.csv\")"
   ]
  },
  {
   "cell_type": "code",
   "execution_count": null,
   "id": "fe228ba8-4070-4b95-a44e-556a96d07686",
   "metadata": {},
   "outputs": [],
   "source": [
    "#Check all the columns avaliable\n",
    "\n",
    "list(all_players.columns)"
   ]
  },
  {
   "cell_type": "code",
   "execution_count": null,
   "id": "1ce4c99c",
   "metadata": {},
   "outputs": [],
   "source": [
    "#Value & Release Clause Column\n",
    "def format_money(column):\n",
    "    values = []\n",
    "    for value in all_players[column]:\n",
    "        if value[-1]=='M':\n",
    "            money = 1000000\n",
    "            money *= float(value[1:-1])\n",
    "        elif value[-1]=='K':\n",
    "            money = 1000\n",
    "            money *= float(value[1:-1])\n",
    "        else: \n",
    "            money = 0\n",
    "        values.append(money)\n",
    "    return values\n",
    "\n",
    "def format_release_clause():\n",
    "    release_clause = []\n",
    "    for clause in all_players['Release Clause'].fillna(''):\n",
    "        if clause == '':\n",
    "            money=0.0\n",
    "        elif clause[-1]=='M':\n",
    "            money = 1000000\n",
    "            money *= float(clause[1:-1])\n",
    "        elif clause[-1]=='K':\n",
    "            money = 1000\n",
    "            money *= float(clause[1:-1])\n",
    "        else: \n",
    "            money = 0\n",
    "        release_clause.append(money)\n",
    "    return release_clause\n",
    "\n",
    "all_players['Value'] =  format_money('Value')\n",
    "all_players['Wage'] = format_money('Wage')\n",
    "all_players['Release Clause'] = format_release_clause()"
   ]
  },
  {
   "cell_type": "code",
   "execution_count": null,
   "id": "7a27057f",
   "metadata": {},
   "outputs": [],
   "source": [
    "(all_players).describe()"
   ]
  },
  {
   "cell_type": "code",
   "execution_count": null,
   "id": "5d599b04-72bd-41a7-a125-948d05dbc6fb",
   "metadata": {},
   "outputs": [],
   "source": [
    "#Get a quick view of the dataset and the type of information contained \n",
    "\n",
    "all_players.head()"
   ]
  },
  {
   "cell_type": "code",
   "execution_count": null,
   "id": "cddc3393-fb84-47a8-aa79-54c85a8ec937",
   "metadata": {},
   "outputs": [],
   "source": [
    "#Aplying some changes to the base dataset\n",
    "all_players['BP'] = all_players['BP'].astype(str)\n",
    "all_players.fillna(0, inplace=True)"
   ]
  },
  {
   "cell_type": "code",
   "execution_count": null,
   "id": "ddfe6533-fa9f-45ed-922d-4d67093b48fa",
   "metadata": {},
   "outputs": [],
   "source": [
    "#This specific column is quite messy and difficult to work with, we will try to get the contract dates separately although we know it won't work in all cases.\n",
    "# We will see later if this is enough for our analysis or if it is necessary to invest more time correcting it.\n",
    "\n",
    "all_players[['start_year', 'end_year']] = all_players['Contract'].str.extract('(\\d{4})\\D+(\\d{4})?')\n",
    "all_players[['start_year', 'end_year']] = all_players[['start_year', 'end_year']].fillna(0)\n",
    "all_players[['start_year', 'end_year']] = all_players[['start_year', 'end_year']].astype(int)\n"
   ]
  },
  {
   "cell_type": "markdown",
   "id": "334d41b4-5b17-44ac-9536-f6ec43710d11",
   "metadata": {},
   "source": [
    "## Problem definition and analysis approach"
   ]
  },
  {
   "cell_type": "markdown",
   "id": "e63b52b4-6525-4f8e-9bf6-5fdd8afc98b1",
   "metadata": {},
   "source": [
    "Our assigned group is **AC Milan**, so we have decided to focus our analysis on the characteristics of this Club, who are the players in this team and how we can improve performance while saving budget."
   ]
  },
  {
   "cell_type": "markdown",
   "id": "be9fd004-05e7-485f-a02c-5c4a8e5d4dd2",
   "metadata": {},
   "source": [
    "## Filtered dataset"
   ]
  },
  {
   "cell_type": "code",
   "execution_count": null,
   "id": "ce72a562-f980-4cd8-b0fc-6727fbab1fc5",
   "metadata": {},
   "outputs": [],
   "source": [
    "#After checking the columns contained in the original dataset, we decided that the following fields were the most relevant fields for our analysis\n",
    "\n",
    "players_info =all_players[['Name', 'Age', 'Club','BOV', 'BP', 'POT','Value','Wage', 'Release Clause', 'Total Stats', 'Team & Contract','start_year', 'end_year']]"
   ]
  },
  {
   "cell_type": "code",
   "execution_count": null,
   "id": "7d010e01-92e9-4ae7-83b0-d7b7f84a1935",
   "metadata": {},
   "outputs": [],
   "source": [
    "players_info.head()"
   ]
  },
  {
   "cell_type": "code",
   "execution_count": null,
   "id": "dc282604-bc50-49fa-96f0-da37c21dc159",
   "metadata": {},
   "outputs": [],
   "source": [
    "players_info.isnull()\n",
    "players_info.isnull().sum()"
   ]
  },
  {
   "cell_type": "markdown",
   "id": "6464570d-ddde-4250-8f7b-e1a29fb55021",
   "metadata": {
    "tags": []
   },
   "source": [
    "#### Descriptions\n",
    "\n",
    "* **BP**: Best position, some players can play in several positions, but we want to take the performance based in the best position.\n",
    "* **BOV**: Best Overall Rating.\n",
    "* **POT**: Potential.\n",
    "* **Value**: What is the value of this player in the market.\n",
    "* **Release Clause**: How much will the club be paid if this player goes to other club.\n",
    "* **Total Stats**: A summary of all the different characteristics from the player."
   ]
  },
  {
   "cell_type": "code",
   "execution_count": null,
   "id": "64c3126d-db50-48df-8c59-1169393c5678",
   "metadata": {},
   "outputs": [],
   "source": [
    "display(players_info.dtypes)"
   ]
  },
  {
   "cell_type": "code",
   "execution_count": null,
   "id": "fc8bb324-1a83-445d-accb-e062247bfffe",
   "metadata": {},
   "outputs": [],
   "source": [
    "players_info.describe()"
   ]
  },
  {
   "cell_type": "markdown",
   "id": "de539fb3-9590-4c48-af52-80ce6e5c8c76",
   "metadata": {},
   "source": [
    "In general we can see that the average age for a football player is 25 years old, and the average of the BOV and POT is 67 points and 72 points respectively with total stats around 1631."
   ]
  },
  {
   "cell_type": "code",
   "execution_count": null,
   "id": "533d219f-7a10-40c9-9df8-b74b62422424",
   "metadata": {},
   "outputs": [],
   "source": [
    "#Check how are all these characteristics related\n",
    "\n",
    "plt.matshow(players_info.corr())\n",
    "plt.xticks(range(9),players_info.corr().columns,rotation=90)\n",
    "plt.yticks(range(9),players_info.corr().columns)\n",
    "plt.colorbar()\n",
    "plt.show()"
   ]
  },
  {
   "cell_type": "markdown",
   "id": "17e27b45-c9b9-4488-8939-b62a4b2e587a",
   "metadata": {},
   "source": [
    "From this grahp we get the following conclusions:\n",
    "* Age vs POT: these are negative related since the older the player, the less growth potential he has.\n",
    "* BOV vs Total Stats: the better stats the player has, the higher BOV he gets, making him a top player.\n",
    "* Wage vs BOV: the salaray of the player is related to how good he is, so the higher the BOV the higher the wage."
   ]
  },
  {
   "cell_type": "markdown",
   "id": "745e87ac-bdd6-4481-8291-0f5cfcbfd2cd",
   "metadata": {},
   "source": [
    "## AC Milan players"
   ]
  },
  {
   "cell_type": "markdown",
   "id": "78a90b84-9c39-48b3-bbd2-8cef70436b58",
   "metadata": {},
   "source": [
    "Now we are going to analayze the players in the AC Milan club to try to identify what improvements can be done."
   ]
  },
  {
   "cell_type": "code",
   "execution_count": null,
   "id": "3ad082c4-d620-4237-87e6-a3c34a956740",
   "metadata": {},
   "outputs": [],
   "source": [
    "#Segregate the players that belong to the club\n",
    "\n",
    "ac_milan_players = players_info[players_info['Club'] == 'Milan']"
   ]
  },
  {
   "cell_type": "code",
   "execution_count": null,
   "id": "ef446ed7-625d-4634-9b25-02c11eeeb752",
   "metadata": {},
   "outputs": [],
   "source": [
    "#Since the potential of the players decreases with the age, we want to see which are the older players in the team \n",
    "\n",
    "ac_milan_players = ac_milan_players.sort_values(by='Age', ascending= False)\n",
    "ac_milan_players"
   ]
  },
  {
   "cell_type": "markdown",
   "id": "2a0a88d9-b804-42f5-9bc5-4df6c07b3678",
   "metadata": {},
   "source": [
    "We see that for some of those older players there is no wage asigned, also, their contrat seems to be expired, which makes them \"non-active players\". In that case, we have to exclude them."
   ]
  },
  {
   "cell_type": "code",
   "execution_count": null,
   "id": "f185d561-7e51-424e-865f-416ff530d51b",
   "metadata": {},
   "outputs": [],
   "source": [
    "ac_milan_players = ac_milan_players.loc[(ac_milan_players.Wage > 0.00)]\n",
    "ac_milan_players = ac_milan_players.loc[(ac_milan_players.end_year >= 2021)]"
   ]
  },
  {
   "cell_type": "code",
   "execution_count": null,
   "id": "f968e2df-4cf8-471a-b5e1-4838f2cc822b",
   "metadata": {},
   "outputs": [],
   "source": [
    "ac_milan_players"
   ]
  },
  {
   "cell_type": "code",
   "execution_count": null,
   "id": "e46faabd-bcaa-4e59-ab2f-d02f2d0b02ff",
   "metadata": {},
   "outputs": [],
   "source": [
    "ac_milan_players['BP'].value_counts().sum()"
   ]
  },
  {
   "cell_type": "markdown",
   "id": "ab85795a-c78a-421f-9bc3-3496fdcc0d46",
   "metadata": {},
   "source": [
    "We have 33 active players in the team, considering that we need more or less 22 players for a match, we think there might be some players that we could release. For that, first we are going to check the amount of players we have per position."
   ]
  },
  {
   "cell_type": "markdown",
   "id": "c166c795-2650-4a87-a8cc-12f1bc538092",
   "metadata": {},
   "source": [
    "#### How does each position play?\n",
    "\n",
    "* **GK**: A goalkeeper **(GK)** is essentially a team’s last line of defence. Goalkeeper is the most defensive position in football.\n",
    "* **Defenders - Centre backs**: Centre backs **(CB)** or central defenders are centrally placed defenders just in front of the team’s goal. \n",
    "* **Defenders - Full backs**: The defenders who operate from either side of their centre backs are termed as full backs or side backs. they are further distinguished as a left back **(LB)** or a right back **(RB)**.\n",
    "* **Central midfielders**: Midfielders located centrally on the pitch are called central midfielders **(CM)**.The number of central midfielders mostly depends on the team’s strategy. \n",
    "* **Central defensive midfielders** **(CDM)**: is tasked to primarily defend by staying in front of their backline. Players specialising as CDMs mostly have a high work rate and are good at tackling and interceptions.  \n",
    "* **Central attacking midfielders** **(CAM)**: Are More attack-minded central midfielders who prioritise supporting the forwards in attack rather than defence. CAMs generally possess the ability to play killer final passes and can shoot well from distance.\n",
    "* **Wingers**: Midfielders who operate from the flanks just ahead of the full backs are called wingers. They are called left wingers **(LW)** or right wingers **(RW)** according to their position on the pitch. While they do help their full backs defensively, a winger’s primary task is to attack and take on opposition defenders.\n",
    "* **Forwards or strikers**: are the team’s most advanced players on the pitch, whose job is exclusively to score goals. A forward who plays more centrally just in front of the opposition goal is called a centre forward **(CF)**. Some teams often deploy forwards in the lane between the wingers and the centre forwards. These strikers are referred to as right forwards **(RF)** or left forwards **(LF)** according to which side they are playing from.\n"
   ]
  },
  {
   "cell_type": "markdown",
   "id": "b1d1a1bd-fac8-44c6-b345-193ca008e72e",
   "metadata": {},
   "source": [
    "![Field_positions](./Field_positions.png)"
   ]
  },
  {
   "cell_type": "markdown",
   "id": "cbbc56b6-b3fb-4826-b80b-d874c708436f",
   "metadata": {},
   "source": [
    "#### AC Milan game strategy\n",
    "\n",
    "Stefano Pioli (manager of the club) likes to use a 4-2-3-1 formation in which the fullbacks **-LB RB-** pick up advanced roles on the pitch. As the game progresses, their fullbacks take up offensive positions, often ending up in or near the striker position. \n",
    "\n",
    "Defensively, one of their fullbacks  **-LB RB-**  tucks inside with the two central defenders **-CB-** turning it into a back three. One of the midfielders **-CDM CAM-** enters the vacated space left by the fullback. When they get the ball back, they immediately attack by initiating quick passes and their fullbacks **-LB RB-** end up near the striking positions in the last phase of their offensive play.\n",
    "\n",
    "When the team attacks, both the fullbacks **-LB RB-**  take up advanced positions in the center of the pitch. The two midfielders  **-CDM CAM-** cover the space vacated by the fullbacks, leading to a type of front six and a back four. The team also likes to exploit width by allowing their wingers **-LW RW-** to stay in wide positions.\n",
    "\n",
    "Sometimes, the attacking midfielders **-CAM-** drop into wide positions and one of the defensive midfielders **-CDM-** comes up to that side and the three form a triangle, with quick interchange of passes and establish a 3v1 or a 3v2 dominance. It is because of this that they can put pin-point crosses to the center of the pitch and a fullback **-LB RB-** usually ends up in that center space."
   ]
  },
  {
   "cell_type": "code",
   "execution_count": null,
   "id": "b8a41139-4d9d-45ac-bab9-920aeb6ea9f7",
   "metadata": {},
   "outputs": [],
   "source": [
    "#We have a lot of CAM players and CB players in the team to sustain the defensive strategy of the club, however at the time we are lacking for LW and RW positions\n",
    "\n",
    "ac_milan_players.groupby(['BP']).agg({'BOV':('mean','count'),'Age':'mean','Wage':'mean' })"
   ]
  },
  {
   "cell_type": "code",
   "execution_count": null,
   "id": "7b36c651-3668-4ad1-8284-9a056f1a0a90",
   "metadata": {},
   "outputs": [],
   "source": [
    "#Now we take a look in the players age and BOV\n",
    "\n",
    "plt.scatter(ac_milan_players['Age'],ac_milan_players['BOV'], s = 100)\n",
    "plt.show()"
   ]
  },
  {
   "cell_type": "markdown",
   "id": "94d1cdc5-5153-46a9-b2b8-f42c6d35fe4a",
   "metadata": {},
   "source": [
    "Majority of the players have BOV between 75 and 80, and are between ages of 22 and 30. From this perspective, we should check the POT of the younger players and the the contracts of the olders, the BOV for the olders is still between average of the team, but we know that they probably retire soon. While there isn't an exact age for footballers to retire, the largest host of professional players hang their boots between the ages of 33 and 37, with 35 being the accepted average."
   ]
  },
  {
   "cell_type": "code",
   "execution_count": null,
   "id": "0b1ecd16-ee32-41a0-bb15-2a78854a4da1",
   "metadata": {},
   "outputs": [],
   "source": [
    "sns.boxplot(x='BP',y='BOV', data = ac_milan_players)\n",
    "plt.show()"
   ]
  },
  {
   "cell_type": "markdown",
   "id": "62a63701-b3be-4038-abc7-065bf8781874",
   "metadata": {},
   "source": [
    "From the graph we can take that there are some outliers regarding BOV score in the different positions, but we already saw that we have some younger members of the team that are not yet in their full potential. So we will need to deep dive in each of the positions teams to make a better assesment.\n",
    "\n",
    "In order to compare with the rest of the clubs positons stats, we are going to exclude the inactive players from there, and of course exclude the players from AC Milan."
   ]
  },
  {
   "cell_type": "code",
   "execution_count": null,
   "id": "cf88f2be-adac-4ac7-bad6-cb51e7fb6fad",
   "metadata": {},
   "outputs": [],
   "source": [
    "active_players_info = players_info.loc[(players_info.Wage > 0.00)]\n",
    "active_players_info = players_info.loc[(players_info.Club != 'Milan')]"
   ]
  },
  {
   "cell_type": "code",
   "execution_count": null,
   "id": "a5e200c0-b452-4838-a0fb-b1e3e7984f98",
   "metadata": {},
   "outputs": [],
   "source": [
    "general_stats = active_players_info.groupby(['BP']).agg({'BOV':'mean'})"
   ]
  },
  {
   "cell_type": "code",
   "execution_count": null,
   "id": "63a1176d-51ca-4503-9309-15a0e1dc7370",
   "metadata": {},
   "outputs": [],
   "source": [
    "ac_milan_stats = ac_milan_players.groupby(['BP']).agg({'BOV':'mean'})"
   ]
  },
  {
   "cell_type": "code",
   "execution_count": null,
   "id": "8cdb6066-1bdb-420c-91f9-a488d37349c8",
   "metadata": {},
   "outputs": [],
   "source": [
    "stats_comparison = pd.merge(general_stats, ac_milan_stats, on='BP', how='left')\n",
    "stats_comparison.fillna(0, inplace=True)\n",
    "stats_comparison = stats_comparison.rename(columns = {'BOV_x' : 'General avg. BOV', 'BOV_y' : 'AC Milan avg. BOV'})"
   ]
  },
  {
   "cell_type": "code",
   "execution_count": null,
   "id": "0bfa1ef9-ce67-4a8c-b9a0-01dab014f937",
   "metadata": {},
   "outputs": [],
   "source": [
    "stats_comparison['Comparison'] = ((((stats_comparison['AC Milan avg. BOV'] - stats_comparison['General avg. BOV'])/stats_comparison['AC Milan avg. BOV'])*100))\n",
    "stats_comparison['Comparison'] = (stats_comparison['Comparison'].replace(-np.inf, -100))\n",
    "stats_comparison['Comparison'] = (stats_comparison['Comparison'].astype(int)).astype(str) + '%'"
   ]
  },
  {
   "cell_type": "code",
   "execution_count": null,
   "id": "481423dc-8436-4838-8578-733d9185fd38",
   "metadata": {},
   "outputs": [],
   "source": [
    "stats_comparison"
   ]
  },
  {
   "cell_type": "markdown",
   "id": "98fe7fd4-da93-49af-ac15-386ac56de911",
   "metadata": {},
   "source": [
    "In average it seems like the team is better than the general population of the rest of the players, negative values are coming from not avaliable positions in the club. So now lets deep dive in detail per possition to try and find a way to improve or manatain the performance and find the missing players while saving some budget."
   ]
  },
  {
   "cell_type": "markdown",
   "id": "859bdcec-d016-440a-a363-9e392e1f5425",
   "metadata": {},
   "source": [
    "## Current budget"
   ]
  },
  {
   "cell_type": "code",
   "execution_count": null,
   "id": "8ce2bbd6-6486-45f5-bb95-a59fdd7db5bc",
   "metadata": {},
   "outputs": [],
   "source": [
    "ac_milan_players"
   ]
  },
  {
   "cell_type": "code",
   "execution_count": null,
   "id": "3aafd0d0-be5c-4f56-aec5-d6d3339b0b65",
   "metadata": {},
   "outputs": [],
   "source": [
    "wages_expense = (ac_milan_players['Wage'].sum())*12\n",
    "wages_expense"
   ]
  },
  {
   "cell_type": "markdown",
   "id": "810b3cb9-4b21-4d73-96ec-7b469cfbf055",
   "metadata": {},
   "source": [
    "## Analysis per position"
   ]
  },
  {
   "cell_type": "markdown",
   "id": "7b434b62-42f1-492c-af10-f2644a642070",
   "metadata": {},
   "source": [
    "In order to verify the specific characteristics of the players according to the position they play, we have added many more details to a new dataframe."
   ]
  },
  {
   "cell_type": "code",
   "execution_count": null,
   "id": "f7bea679-9bc9-4ffe-821b-fa831cc1489f",
   "metadata": {},
   "outputs": [],
   "source": [
    "stats_check = all_players[['ID',\n",
    " 'Name',\n",
    " 'Age',\n",
    " 'Club',\n",
    " 'BOV',\n",
    " 'BP',\n",
    " 'POT',\n",
    " 'Team & Contract',\n",
    " 'start_year', \n",
    " 'end_year',\n",
    " 'Height',\n",
    " 'Weight',\n",
    " 'foot',\n",
    " 'Loan Date End',\n",
    " 'Value',\n",
    " 'Wage',\n",
    " 'Release Clause',\n",
    " 'Attacking',\n",
    " 'Crossing',\n",
    " 'Finishing',\n",
    " 'Heading Accuracy',\n",
    " 'Short Passing',\n",
    " 'Volleys',\n",
    " 'Skill',\n",
    " 'Dribbling',\n",
    " 'Curve',\n",
    " 'FK Accuracy',\n",
    " 'Long Passing',\n",
    " 'Ball Control',\n",
    " 'Movement',\n",
    " 'Acceleration',\n",
    " 'Sprint Speed',\n",
    " 'Agility',\n",
    " 'Reactions',\n",
    " 'Balance',\n",
    " 'Power',\n",
    " 'Shot Power',\n",
    " 'Jumping',\n",
    " 'Stamina',\n",
    " 'Strength',\n",
    " 'Long Shots',\n",
    " 'Mentality',\n",
    " 'Aggression',\n",
    " 'Interceptions',\n",
    " 'Positioning',\n",
    " 'Vision',\n",
    " 'Penalties',\n",
    " 'Composure',\n",
    " 'Defending',\n",
    " 'Marking',\n",
    " 'Standing Tackle',\n",
    " 'Sliding Tackle',\n",
    " 'Goalkeeping',\n",
    " 'GK Diving',\n",
    " 'GK Handling',\n",
    " 'GK Kicking',\n",
    " 'GK Positioning',\n",
    " 'GK Reflexes',\n",
    " 'Total Stats']]"
   ]
  },
  {
   "cell_type": "code",
   "execution_count": null,
   "id": "284d1ee9-e3d7-4bca-8cb9-281aee145363",
   "metadata": {},
   "outputs": [],
   "source": [
    "stats_check = stats_check.loc[(players_info.Wage > 0.00)]\n",
    "stats_check.head()"
   ]
  },
  {
   "cell_type": "markdown",
   "id": "5b5708b7-14c2-4747-a693-d4d1890cca44",
   "metadata": {},
   "source": [
    "#### (GK) Goalkeeper\n",
    "Lets explore which are the top 10 goalkeepers from the population using the stats considered relevant to this position."
   ]
  },
  {
   "cell_type": "code",
   "execution_count": null,
   "id": "b0538ae1-5242-4278-9019-65c4521b7e28",
   "metadata": {},
   "outputs": [],
   "source": [
    "GK_stats = stats_check[['Name', 'Age', 'Club','BOV', 'BP', 'POT','Value','Wage', 'Release Clause', 'Total Stats','Goalkeeping','GK Diving','GK Handling','GK Kicking','GK Positioning','GK Reflexes', 'start_year', 'end_year',]]\n",
    "GK_stats = GK_stats.loc[(GK_stats.BP == 'GK' )]\n",
    "GK_stats  = GK_stats.sort_values(by='BOV', ascending= False)\n",
    "GK_stats.head(10)"
   ]
  },
  {
   "cell_type": "code",
   "execution_count": null,
   "id": "79273648-c565-43d6-88a0-3c99cce42ba5",
   "metadata": {},
   "outputs": [],
   "source": [
    "#How many GK the other clubs have in their teams\n",
    "\n",
    "qty_players_GK = GK_stats.groupby(['Club']).agg({'Name':'count'})\n",
    "averages = qty_players_GK['Name'].mean()\n",
    "print(averages)"
   ]
  },
  {
   "cell_type": "code",
   "execution_count": null,
   "id": "f542ecf6-b525-4c54-a3ec-ab62c24253e3",
   "metadata": {},
   "outputs": [],
   "source": [
    "GK_ac_milan = GK_stats.loc[(GK_stats.Club == 'Milan' )]\n",
    "GK_ac_milan = GK_ac_milan.loc[(GK_stats.end_year >= 2021)]  #We apply this filter here, because for the AC Milan club it was posssible to use the field to identify active players \n",
    "GK_ac_milan = GK_ac_milan.reset_index(drop=True)\n",
    "GK_ac_milan"
   ]
  },
  {
   "cell_type": "markdown",
   "id": "1be51432-153c-4e0d-b295-fccc54c9698e",
   "metadata": {},
   "source": [
    "We can see from the data that:\n",
    "* We have 3 players for this position, in average the rest of the teams have 2.\n",
    "* Player with low BOV and low POT, around 30 years old. Contract expires this year"
   ]
  },
  {
   "cell_type": "markdown",
   "id": "ab30b408-f203-414c-922c-147893f37ce8",
   "metadata": {},
   "source": [
    "Given his low stats, we will include A. Donnarumma as a posible candidate for release."
   ]
  },
  {
   "cell_type": "code",
   "execution_count": null,
   "id": "ac91a2a1-fc83-4def-8a1c-6c0226a83d87",
   "metadata": {},
   "outputs": [],
   "source": [
    "players_to_release = pd.DataFrame()\n",
    "\n",
    "# A. Donnarumma is located in the index 2\n",
    "\n",
    "new_row = GK_ac_milan.iloc[[2],[0,1,3,4,5,6,7,8,9]]\n",
    "players_to_release  = pd.concat([players_to_release, new_row], ignore_index=True)"
   ]
  },
  {
   "cell_type": "markdown",
   "id": "a1339a99-6a5c-4ab7-a05d-2be60a3f16ed",
   "metadata": {},
   "source": [
    "#### (CB) Defenders - Centre backs\n",
    "Lets explore which are the top 10 centre backs from the population using the stats considered relevant to this position."
   ]
  },
  {
   "cell_type": "code",
   "execution_count": null,
   "id": "a145c7c6-bc1a-446d-82a2-daba6cb30804",
   "metadata": {},
   "outputs": [],
   "source": [
    "CB_stats = stats_check[['Name', 'Age', 'Club','BOV', 'BP', 'POT','Value','Wage', 'Release Clause', 'Total Stats','Interceptions','Defending','Agility','Balance','Strength', 'start_year', 'end_year',]]\n",
    "CB_stats = CB_stats.loc[(CB_stats.BP == 'CB' )]\n",
    "CB_stats  = CB_stats.sort_values(by='BOV', ascending= False)\n",
    "CB_stats.head(10)"
   ]
  },
  {
   "cell_type": "code",
   "execution_count": null,
   "id": "7eba4ff8-83e9-48a5-8d88-5557adb37825",
   "metadata": {},
   "outputs": [],
   "source": [
    "#How many CB the other clubs have in their teams\n",
    "\n",
    "qty_players_CB = CB_stats.groupby(['Club']).agg({'Name':'count'})\n",
    "averages = qty_players_CB['Name'].mean()\n",
    "print(averages)"
   ]
  },
  {
   "cell_type": "code",
   "execution_count": null,
   "id": "f7d02917-0873-4f01-9d48-d5ae820048ba",
   "metadata": {},
   "outputs": [],
   "source": [
    "CB_ac_milan = CB_stats.loc[(CB_stats.Club == 'Milan' )]\n",
    "CB_ac_milan = CB_ac_milan.loc[(CB_stats.end_year >= 2021)]  #We apply this filter here, because for the AC Milan club it was posssible to use the field to identify active players \n",
    "CB_ac_milan  = CB_ac_milan.reset_index(drop=True)\n",
    "CB_ac_milan"
   ]
  },
  {
   "cell_type": "markdown",
   "id": "fca83e13-6abf-47db-b4b5-f66905248a5c",
   "metadata": {},
   "source": [
    "We can see from the data that:\n",
    "* We have 8 players for this position, in average the rest of the teams have 4.\n",
    "* Couple of players with low BOV and low POT.\n",
    "\n",
    "Since in general we have a better average than the rest of the population, for this position, we are going to check the scores of these players against the 75 quartile from the rest of the players, to determine which ones are lower that the average of the best."
   ]
  },
  {
   "cell_type": "code",
   "execution_count": null,
   "id": "7ac83a2c-81fe-4c57-8cbd-0d02e0da11c6",
   "metadata": {},
   "outputs": [],
   "source": [
    "Q75_BOV = CB_stats['BOV'].quantile(0.75)\n",
    "print(Q75_BOV)\n",
    "Q75_POT = CB_stats['POT'].quantile(0.75)\n",
    "print(Q75_POT)"
   ]
  },
  {
   "cell_type": "code",
   "execution_count": null,
   "id": "ea92ce78-a825-4a46-b3e6-484408295ca0",
   "metadata": {},
   "outputs": [],
   "source": [
    "CB_players_release1 = CB_ac_milan.loc[(CB_ac_milan.BOV < Q75_BOV)] \n",
    "CB_players_release1 = CB_players_release1.reset_index(drop=True)\n",
    "CB_players_release1"
   ]
  },
  {
   "cell_type": "code",
   "execution_count": null,
   "id": "14abb470-46a8-4f40-86b5-3c499553f748",
   "metadata": {},
   "outputs": [],
   "source": [
    "CB_players_release2 = CB_players_release1.loc[(CB_players_release1.POT < Q75_POT)] \n",
    "CB_players_release2 = CB_players_release2.reset_index(drop=True)\n",
    "CB_players_release2"
   ]
  },
  {
   "cell_type": "code",
   "execution_count": null,
   "id": "50e1fcb8-5cd7-4e8f-a4d7-7949b689ece4",
   "metadata": {},
   "outputs": [],
   "source": [
    "# G. Bellodi is located in the index 0\n",
    "\n",
    "new_row = CB_players_release2.iloc[[0],[0,1,3,4,5,6,7,8,9]]\n",
    "players_to_release  = pd.concat([players_to_release, new_row], ignore_index=True)"
   ]
  },
  {
   "cell_type": "markdown",
   "id": "71d112d4-e743-4590-93a8-14a3d84860fd",
   "metadata": {},
   "source": [
    "Aditionally, in the players to release we will include the bottom player from the Q75_BOV. His potential is above Q75_POT, however we want to be more eficient and we have too many players for this position. "
   ]
  },
  {
   "cell_type": "code",
   "execution_count": null,
   "id": "1fb5167d-e7b0-4d27-a436-336816e4bf64",
   "metadata": {},
   "outputs": [],
   "source": [
    "# G. Bellodi is located in the index 1\n",
    "\n",
    "new_row = CB_players_release1.iloc[[1],[0,1,3,4,5,6,7,8,9]]\n",
    "players_to_release  = pd.concat([players_to_release, new_row], ignore_index=True)"
   ]
  },
  {
   "cell_type": "markdown",
   "id": "4c440df9-4ac7-4f32-9e83-3899f872a87b",
   "metadata": {},
   "source": [
    "#### (LB- RB) Defenders - Full backs\n",
    "Lets explore which are the top 10 full backs from the population using the stats considered relevant to this position."
   ]
  },
  {
   "cell_type": "code",
   "execution_count": null,
   "id": "c43eb170-1b21-4b26-aaed-94c76454ddb8",
   "metadata": {},
   "outputs": [],
   "source": [
    "LB_RB_stats = stats_check[['Name', 'Age', 'Club','BOV', 'BP', 'POT','Value','Wage', 'Release Clause', 'Total Stats','Aggression','Heading Accuracy','FK Accuracy','Dribbling','Crossing','foot', 'start_year', 'end_year',]]\n",
    "LB_RB_stats = LB_RB_stats.loc[(LB_RB_stats.BP == 'LB' ) | (LB_RB_stats.BP == 'RB')]\n",
    "LB_RB_stats = LB_RB_stats .sort_values(by='BOV', ascending= False)\n",
    "LB_RB_stats.head(10)"
   ]
  },
  {
   "cell_type": "code",
   "execution_count": null,
   "id": "be4d086e-b263-42cc-8b23-2d0002562466",
   "metadata": {},
   "outputs": [],
   "source": [
    "#How many LB_RB the other clubs have in their teams\n",
    "\n",
    "qty_players_LB_RB = LB_RB_stats.groupby(['Club']).agg({'Name':'count'})\n",
    "averages = qty_players_LB_RB['Name'].mean()\n",
    "print(averages)"
   ]
  },
  {
   "cell_type": "code",
   "execution_count": null,
   "id": "2e2b2ca3-0e6f-4457-ab6f-eb929be5f081",
   "metadata": {},
   "outputs": [],
   "source": [
    "LB_RB_ac_milan = LB_RB_stats.loc[(LB_RB_stats.Club == 'Milan' )]\n",
    "LB_RB_ac_milan = LB_RB_ac_milan.loc[(LB_RB_stats.end_year >= 2021)]  #We apply this filter here, because for the AC Milan club it was posssible to use the field to identify active players \n",
    "LB_RB_ac_milan"
   ]
  },
  {
   "cell_type": "code",
   "execution_count": null,
   "id": "5fac1128-060f-4695-b3ea-6389cffab76f",
   "metadata": {},
   "outputs": [],
   "source": [
    "Q75_BOV = LB_RB_stats['BOV'].quantile(0.75)\n",
    "print(Q75_BOV)\n",
    "Q75_POT = LB_RB_stats['POT'].quantile(0.75)\n",
    "print(Q75_POT)"
   ]
  },
  {
   "cell_type": "code",
   "execution_count": null,
   "id": "1d71210b-b6e4-41e1-ac39-ad9af2c0c0d1",
   "metadata": {},
   "outputs": [],
   "source": [
    "LB_RB_players_release = LB_RB_ac_milan.loc[(LB_RB_ac_milan.BOV < Q75_BOV)]\n",
    "LB_RB_players_release"
   ]
  },
  {
   "cell_type": "code",
   "execution_count": null,
   "id": "d86b979b-2252-4b95-ac7a-1d12dabda8f5",
   "metadata": {},
   "outputs": [],
   "source": [
    "LB_RB_players_release = LB_RB_players_release.loc[(LB_RB_players_release.POT < Q75_POT)] \n",
    "LB_RB_players_release"
   ]
  },
  {
   "cell_type": "markdown",
   "id": "b913711a-75f7-475d-94c6-cc8deb08aa9b",
   "metadata": {},
   "source": [
    "For this position, we have around the same number as the rest of the clubs, and all our players are above average of the best. So for this position we won't be doing modifications."
   ]
  },
  {
   "cell_type": "markdown",
   "id": "ca771b5b-51c6-41fe-84fa-8eaa05b04117",
   "metadata": {},
   "source": [
    "#### (CM LM RM) Midfielders\n",
    "Lets explore which are the top 10 central midfielders from the population using the stats considered relevant to this position."
   ]
  },
  {
   "cell_type": "code",
   "execution_count": null,
   "id": "5066f7e4-ba50-47d9-8aad-b4fd31768499",
   "metadata": {},
   "outputs": [],
   "source": [
    "M_stats = stats_check[['Name', 'Age', 'Club','BOV', 'BP', 'POT','Value','Wage', 'Release Clause', 'Total Stats','Standing Tackle','Sliding Tackle','Interceptions','Stamina', 'start_year', 'end_year',]]\n",
    "M_stats = M_stats.loc[(M_stats.BP == 'CM' ) | (M_stats.BP == 'LM') | (M_stats.BP == 'RM')]\n",
    "M_stats = M_stats .sort_values(by='BOV', ascending= False) \n",
    "M_stats.head(10)"
   ]
  },
  {
   "cell_type": "code",
   "execution_count": null,
   "id": "0656ab97-c950-4136-a3ee-ab20ff703a76",
   "metadata": {},
   "outputs": [],
   "source": [
    "#How many CM the other clubs have in their teams\n",
    "\n",
    "qty_players_M = M_stats.groupby(['Club']).agg({'Name':'count'})\n",
    "averages = qty_players_M['Name'].mean()\n",
    "print(averages)"
   ]
  },
  {
   "cell_type": "code",
   "execution_count": null,
   "id": "3e6bf264-4760-4f90-9d6c-b08e9c957cea",
   "metadata": {},
   "outputs": [],
   "source": [
    "M_ac_milan = M_stats.loc[(M_stats.Club == 'Milan' )]\n",
    "M_ac_milan = M_ac_milan.loc[(M_stats.end_year >= 2021)]  #We apply this filter here, because for the AC Milan club it was posssible to use the field to identify active players \n",
    "M_ac_milan"
   ]
  },
  {
   "cell_type": "code",
   "execution_count": null,
   "id": "5364de0f-9db5-47a0-8aaf-688ebd4d152d",
   "metadata": {},
   "outputs": [],
   "source": [
    "Q75_BOV = M_stats['BOV'].quantile(0.75)\n",
    "print(Q75_BOV)\n",
    "Q75_POT = M_stats['POT'].quantile(0.75)\n",
    "print(Q75_POT)"
   ]
  },
  {
   "cell_type": "code",
   "execution_count": null,
   "id": "2f2439f2-9664-4eeb-a46c-88fec5adeb37",
   "metadata": {},
   "outputs": [],
   "source": [
    "M_players_release1 = M_ac_milan.loc[(M_ac_milan.BOV < Q75_BOV)]\n",
    "M_players_release1= M_players_release1.reset_index(drop=True)\n",
    "M_players_release1"
   ]
  },
  {
   "cell_type": "code",
   "execution_count": null,
   "id": "dddf269a-3b03-4812-a241-a2b1c031d957",
   "metadata": {},
   "outputs": [],
   "source": [
    "M_players_release2 = M_players_release1.loc[(M_players_release1.POT < Q75_POT)] \n",
    "M_players_release2"
   ]
  },
  {
   "cell_type": "code",
   "execution_count": null,
   "id": "5009656f-7316-483d-a50b-2be9a94c3d68",
   "metadata": {},
   "outputs": [],
   "source": [
    "# M. Brescianini is located in the index 0\n",
    "\n",
    "new_row = M_players_release1.iloc[[0],[0,1,3,4,5,6,7,8,9]]\n",
    "players_to_release  = pd.concat([players_to_release, new_row], ignore_index=True)"
   ]
  },
  {
   "cell_type": "markdown",
   "id": "e5f2edb6-ec92-4f3c-836f-3ed8d2b08be6",
   "metadata": {},
   "source": [
    "#### (CDM) Central defensive midfielders\n",
    "Lets explore which are the top 10 central defensive midfielders from the population using the stats considered relevant to this position."
   ]
  },
  {
   "cell_type": "code",
   "execution_count": null,
   "id": "eb5c3cea-5ba9-49f3-9fec-c5cfbb5e07ca",
   "metadata": {},
   "outputs": [],
   "source": [
    "CDM_stats = stats_check[['Name', 'Age', 'Club','BOV', 'BP', 'POT','Value','Wage', 'Release Clause', 'Total Stats','Standing Tackle','Sliding Tackle','Interceptions','Stamina','Short Passing','Aggression', 'start_year', 'end_year',]]\n",
    "CDM_stats = CDM_stats.loc[(CDM_stats.BP == 'CDM' )]\n",
    "CDM_stats = CDM_stats .sort_values(by='BOV', ascending= False)\n",
    "CDM_stats.head(10)"
   ]
  },
  {
   "cell_type": "code",
   "execution_count": null,
   "id": "de899af6-6a31-412f-aaa4-acd485b81090",
   "metadata": {},
   "outputs": [],
   "source": [
    "#How many CDM the other clubs have in their teams\n",
    "\n",
    "qty_players_CDM = CDM_stats.groupby(['Club']).agg({'Name':'count'})\n",
    "averages = qty_players_CDM['Name'].mean()\n",
    "print(averages)"
   ]
  },
  {
   "cell_type": "code",
   "execution_count": null,
   "id": "da954fc3-5c32-49ed-a80d-3b96a67ae1ef",
   "metadata": {},
   "outputs": [],
   "source": [
    "CDM_ac_milan = CDM_stats.loc[(CDM_stats.Club == 'Milan' )]\n",
    "CDM_ac_milan = CDM_ac_milan.loc[(CDM_stats.end_year >= 2021)]  #We apply this filter here, because for the AC Milan club it was posssible to use the field to identify active players \n",
    "CDM_ac_milan"
   ]
  },
  {
   "cell_type": "code",
   "execution_count": null,
   "id": "0a8c9845-2c2b-4b9a-8137-137bf18cdd82",
   "metadata": {},
   "outputs": [],
   "source": [
    "Q75_BOV = CDM_stats['BOV'].quantile(0.75)\n",
    "print(Q75_BOV)\n",
    "Q75_POT = CDM_stats['POT'].quantile(0.75)\n",
    "print(Q75_POT)"
   ]
  },
  {
   "cell_type": "markdown",
   "id": "b77da2e1-7270-47e8-b4ec-1e57d32575de",
   "metadata": {},
   "source": [
    "For this position, we have around the same number as the rest of the clubs, and all our players are above average of the best. So for this position we won't be doing modifications."
   ]
  },
  {
   "cell_type": "markdown",
   "id": "58095bb4-98d8-4fc4-b2c4-40265f3495b9",
   "metadata": {},
   "source": [
    "#### (CAM) Central attacking midfielders \n",
    "Lets explore which are the top 10 central attacking midfielders from the population using the stats considered relevant to this position."
   ]
  },
  {
   "cell_type": "code",
   "execution_count": null,
   "id": "a10c7db0-d441-4978-ad9c-24132428f7c8",
   "metadata": {},
   "outputs": [],
   "source": [
    "CAM_stats = stats_check[['Name', 'Age', 'Club','BOV', 'BP', 'POT','Value','Wage', 'Release Clause','Total Stats','Finishing','Dribbling','Shot Power', 'start_year', 'end_year',]]\n",
    "CAM_stats = CAM_stats.loc[(CAM_stats.BP == 'CAM' )]\n",
    "CAM_stats = CAM_stats .sort_values(by='BOV', ascending= False)\n",
    "CAM_stats.head(10)"
   ]
  },
  {
   "cell_type": "code",
   "execution_count": null,
   "id": "6f3a410b-381c-43c4-ae4b-d185134094a8",
   "metadata": {},
   "outputs": [],
   "source": [
    "#How many CAM the other clubs have in their teams\n",
    "\n",
    "qty_players_CAM = CAM_stats.groupby(['Club']).agg({'Name':'count'})\n",
    "averages = qty_players_CAM['Name'].mean()\n",
    "print(averages)"
   ]
  },
  {
   "cell_type": "code",
   "execution_count": null,
   "id": "b9ee45cf-4869-4966-a855-d3bc1c2c6496",
   "metadata": {},
   "outputs": [],
   "source": [
    "CAM_ac_milan = CAM_stats.loc[(CAM_stats.Club == 'Milan' )]\n",
    "CAM_ac_milan = CAM_ac_milan.loc[(CAM_stats.end_year >= 2021)]  #We apply this filter here, because for the AC Milan club it was posssible to use the field to identify active players \n",
    "CAM_ac_milan = CAM_ac_milan.reset_index(drop=True)\n",
    "CAM_ac_milan"
   ]
  },
  {
   "cell_type": "code",
   "execution_count": null,
   "id": "687f0935-274e-403d-93c0-66a8f8426a94",
   "metadata": {},
   "outputs": [],
   "source": [
    "Q75_BOV = CAM_stats['BOV'].quantile(0.75)\n",
    "print(Q75_BOV)\n",
    "Q75_POT = CAM_stats['POT'].quantile(0.75)\n",
    "print(Q75_POT)"
   ]
  },
  {
   "cell_type": "code",
   "execution_count": null,
   "id": "f8f3a09a-cb2b-4788-9a6b-e16e059491f4",
   "metadata": {},
   "outputs": [],
   "source": [
    "CAM_players_release1 = CAM_ac_milan.loc[(CAM_ac_milan.BOV < Q75_BOV)]\n",
    "CAM_players_release1 = CAM_players_release1.reset_index(drop=True)\n",
    "CAM_players_release1"
   ]
  },
  {
   "cell_type": "code",
   "execution_count": null,
   "id": "a0882849-e985-437d-8216-4c430128b2fb",
   "metadata": {},
   "outputs": [],
   "source": [
    "CAM_players_release2 = CAM_players_release1.loc[(CAM_players_release1.POT < Q75_POT)] \n",
    "CAM_players_release2"
   ]
  },
  {
   "cell_type": "code",
   "execution_count": null,
   "id": "9ee1ba64-97ac-4dda-881e-bf91026df7f0",
   "metadata": {},
   "outputs": [],
   "source": [
    "# M. D. Maldini is located in the index 0\n",
    "\n",
    "new_row = CAM_players_release1.iloc[[0],[0,1,3,4,5,6,7,8,9]]\n",
    "players_to_release = pd.concat([players_to_release, pd.DataFrame(new_row, index=[0])], ignore_index=True)"
   ]
  },
  {
   "cell_type": "markdown",
   "id": "2de3e1c4-4efe-4bfa-a2e4-9f7b5ac5dcdf",
   "metadata": {},
   "source": [
    "#### (LW LWB - RW RWB) Wingers \n",
    "Lets explore which are the top 10 wingers from the population using the stats considered relevant to this position."
   ]
  },
  {
   "cell_type": "code",
   "execution_count": null,
   "id": "1aa8b619-cbd5-4cad-b29b-6d89bd5c8fbf",
   "metadata": {},
   "outputs": [],
   "source": [
    "LW_RW_stats = stats_check[['Name', 'Age', 'Club','BOV', 'BP', 'POT','Value','Wage', 'Release Clause', 'Total Stats','Acceleration','Sprint Speed','Dribbling','Ball Control', 'Curve', 'Finishing','foot', 'start_year', 'end_year',]]\n",
    "LW_RW_stats = LW_RW_stats.loc[(LW_RW_stats.BP == 'LW' ) | (LW_RW_stats.BP == 'LWB') | (LW_RW_stats.BP == 'RW') | (LW_RW_stats.BP == 'RWB')]\n",
    "LW_RW_stats = LW_RW_stats .sort_values(by='BOV', ascending= False)\n",
    "LW_RW_stats.head(10)"
   ]
  },
  {
   "cell_type": "code",
   "execution_count": null,
   "id": "70648ee2-456a-4285-b8b0-fd50cb24a303",
   "metadata": {},
   "outputs": [],
   "source": [
    "#How many LW_RW the other clubs have in their teams\n",
    "\n",
    "qty_players_LW_RW = LW_RW_stats.groupby(['Club']).agg({'Name':'count'})\n",
    "averages = qty_players_LW_RW['Name'].mean()\n",
    "print(averages)"
   ]
  },
  {
   "cell_type": "code",
   "execution_count": null,
   "id": "7c554458-90e3-4926-b310-7332094d912e",
   "metadata": {},
   "outputs": [],
   "source": [
    "LW_RW_ac_milan = LW_RW_stats.loc[(LW_RW_stats.Club == 'Milan' )]\n",
    "LW_RW_ac_milan = LW_RW_ac_milan.loc[(LW_RW_stats.end_year >= 2021)]  #We apply this filter here, because for the AC Milan club it was posssible to use the field to identify active players \n",
    "LW_RW_ac_milan"
   ]
  },
  {
   "cell_type": "markdown",
   "id": "f302d97b-9fcf-41f6-ae15-bcd76bd7a86b",
   "metadata": {},
   "source": [
    "Currently only has RWB players. In order to select the best candidates that we can afford, we will separate the players in LW and RW"
   ]
  },
  {
   "cell_type": "code",
   "execution_count": null,
   "id": "cde2b6f2-43b4-47fb-ac2e-68b69a767f91",
   "metadata": {},
   "outputs": [],
   "source": [
    "LW_stats = LW_RW_stats.loc[(LW_RW_stats.BP == 'LW')| (LW_RW_stats.BP == 'LWB')]\n",
    "LW_stats = LW_stats .sort_values(by='BOV', ascending= False)\n",
    "LW_stats "
   ]
  },
  {
   "cell_type": "code",
   "execution_count": null,
   "id": "9e8ec7fb-42cf-4627-a378-95c6b833c288",
   "metadata": {},
   "outputs": [],
   "source": [
    "Q75_BOV = LW_stats['BOV'].quantile(0.75)\n",
    "print(Q75_BOV)\n",
    "Q75_POT = LW_stats['POT'].quantile(0.75)\n",
    "print(Q75_POT)"
   ]
  },
  {
   "cell_type": "code",
   "execution_count": null,
   "id": "9f927339-e5af-4885-8110-7631c17bf417",
   "metadata": {},
   "outputs": [],
   "source": [
    "Q80_BOV = LW_stats['BOV'].quantile(0.80)\n",
    "print(Q80_BOV)\n",
    "Q80_POT = LW_stats['POT'].quantile(0.80)\n",
    "print(Q80_POT)"
   ]
  },
  {
   "cell_type": "markdown",
   "id": "c3f5f8cf-474f-4d0b-b7b3-947bfc756a4b",
   "metadata": {},
   "source": [
    "Since we are not looking for the top LW, we decided to filter the possible candidates as the players with BOV between quartiles 75 and 80, we are looking for a young player with a high potential"
   ]
  },
  {
   "cell_type": "code",
   "execution_count": null,
   "id": "4a2e17e1-3c21-4e9b-b255-d995758f1cf9",
   "metadata": {},
   "outputs": [],
   "source": [
    "LW_stats_filtered = LW_stats.loc[(LW_stats.BOV >= Q75_BOV ) & (LW_stats.BOV <= Q80_BOV)]\n",
    "LW_stats_filtered.sort_values(by='BOV', ascending= False)\n",
    "LW_stats_filtered= LW_stats_filtered.reset_index(drop=True)\n",
    "LW_stats_filtered.head(30)"
   ]
  },
  {
   "cell_type": "markdown",
   "id": "f886bc71-9fe4-42c4-9f53-8972db34ab0d",
   "metadata": {},
   "source": [
    "We decided to go with 'Luan', his best position is LW and with a POT of 82 and BOV of 74, and very good stats for the rest of the abilities, having no release clause, this young player is a top choice to join the team and develop his potential."
   ]
  },
  {
   "cell_type": "code",
   "execution_count": null,
   "id": "fb85e01e-01c5-4552-9d34-89d8c75cd3f8",
   "metadata": {},
   "outputs": [],
   "source": [
    "players_to_acquire = pd.DataFrame()\n",
    "\n",
    "# Luan is located in the index 18\n",
    "\n",
    "new_row = LW_stats_filtered.iloc[[18],[0,1,3,4,5,6,7,8,9]]\n",
    "players_to_acquire   = pd.concat([players_to_acquire, new_row], ignore_index=True)"
   ]
  },
  {
   "cell_type": "code",
   "execution_count": null,
   "id": "69d2bcaf-6d3e-487d-aa74-6039af7d122e",
   "metadata": {},
   "outputs": [],
   "source": [
    "RW_stats = LW_RW_stats.loc[(LW_RW_stats.BP == 'RW')]\n",
    "RW_stats = RW_stats.sort_values(by='BOV', ascending= False)\n",
    "RW_stats "
   ]
  },
  {
   "cell_type": "code",
   "execution_count": null,
   "id": "f03cdb9b-cb81-40e4-998c-da5cf160e912",
   "metadata": {},
   "outputs": [],
   "source": [
    "Q75_BOV = RW_stats['BOV'].quantile(0.75)\n",
    "print(Q75_BOV)\n",
    "Q75_POT = RW_stats['POT'].quantile(0.75)\n",
    "print(Q75_POT)"
   ]
  },
  {
   "cell_type": "code",
   "execution_count": null,
   "id": "e33ca6b0-c8a1-44b7-b6f1-577e5d717d4d",
   "metadata": {},
   "outputs": [],
   "source": [
    "Q80_BOV = RW_stats['BOV'].quantile(0.80)\n",
    "print(Q80_BOV)\n",
    "Q80_POT = RW_stats['POT'].quantile(0.80)\n",
    "print(Q80_POT)"
   ]
  },
  {
   "cell_type": "code",
   "execution_count": null,
   "id": "7cd9af0e-eeb5-458c-b5a7-88df696a7334",
   "metadata": {},
   "outputs": [],
   "source": [
    "RW_stats_filtered  = RW_stats.loc[(RW_stats.BOV >= Q75_BOV ) & (RW_stats.BOV <= Q80_BOV)]\n",
    "RW_stats_filtered.sort_values(by='BOV', ascending= False)\n",
    "RW_stats_filtered = RW_stats_filtered.reset_index(drop=True)\n",
    "RW_stats_filtered.head(30)"
   ]
  },
  {
   "cell_type": "markdown",
   "id": "10083db5-ade9-4c47-948f-48cf6d4afe66",
   "metadata": {},
   "source": [
    "We decided to go with 'L. Singh', with a POT of 80 and BOV of 73, he hasn't any release clause and with those stats this young player has a bright future in the team."
   ]
  },
  {
   "cell_type": "code",
   "execution_count": null,
   "id": "b80891a0-edba-4788-afe6-a43ac4a688a7",
   "metadata": {},
   "outputs": [],
   "source": [
    "# L. Singh is located in the index 22\n",
    "\n",
    "new_row = RW_stats_filtered.iloc[[22],[0,1,3,4,5,6,7,8,9]]\n",
    "players_to_acquire   = pd.concat([players_to_acquire, new_row], ignore_index=True)"
   ]
  },
  {
   "cell_type": "markdown",
   "id": "5e25afac-b064-4d05-a5e2-a59f1b83ce4e",
   "metadata": {},
   "source": [
    "#### (CF RF LF ST) Forwards or strikers \n",
    "Lets explore which are the top 10 strikers from the population using the stats considered relevant to this position."
   ]
  },
  {
   "cell_type": "code",
   "execution_count": null,
   "id": "ebc14ff6-eb22-42d9-8db4-9c592267972f",
   "metadata": {},
   "outputs": [],
   "source": [
    "ST_stats = stats_check[['Name', 'Age', 'Club','BOV', 'BP', 'POT','Value','Wage', 'Release Clause','Total Stats','Finishing','Aggression','Positioning','Heading Accuracy','Strength', 'start_year', 'end_year',]]\n",
    "ST_stats = ST_stats.loc[(ST_stats.BP == 'CF') | (ST_stats.BP == 'RF') | (ST_stats.BP == 'LF') | (ST_stats.BP == 'ST')]\n",
    "ST_stats = ST_stats .sort_values(by='BOV', ascending= False)\n",
    "ST_stats.head(10)"
   ]
  },
  {
   "cell_type": "code",
   "execution_count": null,
   "id": "02ea3288-bf69-452c-b9c8-50cd987a37e3",
   "metadata": {},
   "outputs": [],
   "source": [
    "#How many CF_RF_LF_ST the other clubs have in their teams\n",
    "\n",
    "qty_players_ST = ST_stats.groupby(['Club']).agg({'Name':'count'})\n",
    "averages = qty_players_ST['Name'].mean()\n",
    "print(averages)"
   ]
  },
  {
   "cell_type": "code",
   "execution_count": null,
   "id": "a6bb2a65-63a6-4ca3-89c4-96159f70bab3",
   "metadata": {},
   "outputs": [],
   "source": [
    "ST_ac_milan = ST_stats.loc[(ST_stats.Club == 'Milan' )]\n",
    "ST_ac_milan = ST_ac_milan.loc[(ST_stats.end_year >= 2021)]  #We apply this filter here, because for the AC Milan club it was posssible to use the field to identify active players \n",
    "ST_ac_milan = ST_ac_milan.reset_index(drop=True)\n",
    "ST_ac_milan"
   ]
  },
  {
   "cell_type": "code",
   "execution_count": null,
   "id": "3bea2d2e-2b75-4fde-a291-712d73eaa3a9",
   "metadata": {},
   "outputs": [],
   "source": [
    "Q75_BOV = ST_stats['BOV'].quantile(0.75)\n",
    "print(Q75_BOV)\n",
    "Q75_POT = ST_stats['POT'].quantile(0.75)\n",
    "print(Q75_POT)"
   ]
  },
  {
   "cell_type": "code",
   "execution_count": null,
   "id": "90633f4e-ba1d-4c4b-a1cd-ca13aa29fc83",
   "metadata": {},
   "outputs": [],
   "source": [
    "ST_players_release1 = ST_ac_milan.loc[(ST_ac_milan.BOV < Q75_BOV)]\n",
    "ST_players_release1 = ST_players_release1.reset_index(drop=True)\n",
    "ST_players_release1"
   ]
  },
  {
   "cell_type": "code",
   "execution_count": null,
   "id": "1d806710-9e64-483d-bd33-2a10ac49c0f7",
   "metadata": {},
   "outputs": [],
   "source": [
    "ST_players_release2 = ST_players_release1.loc[(ST_players_release1.POT < Q75_POT)] \n",
    "ST_players_release2"
   ]
  },
  {
   "cell_type": "markdown",
   "id": "0fb7b1f4-8fcb-43eb-bc7a-b6dc2bdd1655",
   "metadata": {},
   "source": [
    "Acording to the data from BOV and POT all our players are above avergage of the best, however, Z. Ibrahimović is 38 years old, hence close to retire. We will be adding him to the players to release, and since he still have very good stats we will try to negociate the exchange for one of the players to adquire."
   ]
  },
  {
   "cell_type": "code",
   "execution_count": null,
   "id": "1f4a752c-4a98-42f8-9399-07ae98f99a8a",
   "metadata": {},
   "outputs": [],
   "source": [
    "# Z. Ibrahimović is located in the index 0\n",
    "\n",
    "new_row = ST_ac_milan.iloc[[0],[0,1,3,4,5,6,7,8,9]]\n",
    "players_to_release  = pd.concat([players_to_release, new_row], ignore_index=True)"
   ]
  },
  {
   "cell_type": "markdown",
   "id": "de7b647a-58dc-4d79-83e4-92a785b4c5c7",
   "metadata": {},
   "source": [
    "We will need to add another Stricker to the team. Lets check the options"
   ]
  },
  {
   "cell_type": "code",
   "execution_count": null,
   "id": "291f8e72-264f-4de9-9f14-f2e4dd304b1b",
   "metadata": {},
   "outputs": [],
   "source": [
    "Q80_BOV = ST_stats['BOV'].quantile(0.80)\n",
    "print(Q80_BOV)\n",
    "Q80_POT = ST_stats['POT'].quantile(0.80)\n",
    "print(Q80_POT)"
   ]
  },
  {
   "cell_type": "code",
   "execution_count": null,
   "id": "0d5468e2-ea0f-4e34-b1b6-824e3a00eef5",
   "metadata": {},
   "outputs": [],
   "source": [
    "ST_stats_filtered = ST_stats.loc[(ST_stats.BOV >= Q75_BOV )]\n",
    "ST_stats_filtered.sort_values(by='BOV', ascending= False)\n",
    "ST_stats_filtered = ST_stats_filtered.reset_index(drop=True)\n",
    "ST_stats_filtered.head(40)"
   ]
  },
  {
   "cell_type": "code",
   "execution_count": null,
   "id": "b7de2d52-df06-44a5-984c-7e1d683acdbb",
   "metadata": {},
   "outputs": [],
   "source": [
    "# Nilmar is located in the index 37\n",
    "\n",
    "new_row = ST_stats_filtered.iloc[[37],[0,1,3,4,5,6,7,8,9]]\n",
    "players_to_acquire   = pd.concat([players_to_acquire, new_row], ignore_index=True)"
   ]
  },
  {
   "cell_type": "markdown",
   "id": "13d7cfe0-fd99-4175-939d-e9d5fc991c89",
   "metadata": {},
   "source": [
    "Decided to go with 'Nilmar' since is a young player with a very high potential, and very good stats."
   ]
  },
  {
   "cell_type": "markdown",
   "id": "4e23bd0b-c2d2-4296-ad2e-1bcbc933214e",
   "metadata": {},
   "source": [
    "## Loans of players"
   ]
  },
  {
   "cell_type": "markdown",
   "id": "bf84b0c8-86ad-49d6-8cfd-9e72151eb562",
   "metadata": {},
   "source": [
    "As a last step, we decided to negociate the loan of 2 players 'G. Gómez' and 'Léo Duarte'. \n",
    "For the loan the conditions will be:\n",
    "10% of the 'Release Clause' as a fee for the loan of the player during 1 year\n",
    "If the other club decides they want to keep the player, the 'Release Clause' will have 20% discount to by paid when the contract is sign. "
   ]
  },
  {
   "cell_type": "code",
   "execution_count": null,
   "id": "429e9bac-5dd1-4607-aab4-6f3ad7f61d0a",
   "metadata": {},
   "outputs": [],
   "source": [
    "players_to_loan = pd.DataFrame()\n",
    "\n",
    "# G. Gómez is located in the index 4\n",
    "\n",
    "new_row = CB_ac_milan.iloc[[4],[0,1,3,4,5,6,7,8,9]]\n",
    "players_to_loan  = pd.concat([players_to_loan, new_row], ignore_index=True)"
   ]
  },
  {
   "cell_type": "code",
   "execution_count": null,
   "id": "19178b3d-cb50-4971-8360-8571115b83f3",
   "metadata": {},
   "outputs": [],
   "source": [
    "# Léo Duarte is located in the index 3\n",
    "\n",
    "new_row = CB_ac_milan.iloc[[3],[0,1,3,4,5,6,7,8,9]]\n",
    "players_to_loan  = pd.concat([players_to_loan, new_row], ignore_index=True)"
   ]
  },
  {
   "cell_type": "markdown",
   "id": "7f23e0b9-40ee-455c-b718-688d29525fe1",
   "metadata": {},
   "source": [
    "## Final results"
   ]
  },
  {
   "cell_type": "markdown",
   "id": "9b4651b1-37d2-48b0-bd53-ec482658f64d",
   "metadata": {},
   "source": [
    "After analyzing all the positions and the stats of the players, we conclude that these are the required movements in the team:"
   ]
  },
  {
   "cell_type": "code",
   "execution_count": null,
   "id": "afa348d2-abfc-4e22-8adf-1abe440b3f8b",
   "metadata": {},
   "outputs": [],
   "source": [
    "players_to_release"
   ]
  },
  {
   "cell_type": "code",
   "execution_count": null,
   "id": "53131f1a-5484-4b74-92d2-19638e3f6784",
   "metadata": {},
   "outputs": [],
   "source": [
    "releases_wages_expense = players_to_release['Wage'].sum()*12\n",
    "releases_wages_expense"
   ]
  },
  {
   "cell_type": "code",
   "execution_count": null,
   "id": "bcc0951e-f0fa-4354-bfb2-2be41683e873",
   "metadata": {},
   "outputs": [],
   "source": [
    "releases_clauses_received =  players_to_release['Release Clause'].sum()\n",
    "releases_clauses_received "
   ]
  },
  {
   "cell_type": "code",
   "execution_count": null,
   "id": "0ebd91ae-c9b1-48e5-971e-1211a5b76d0e",
   "metadata": {},
   "outputs": [],
   "source": [
    "players_to_acquire"
   ]
  },
  {
   "cell_type": "code",
   "execution_count": null,
   "id": "e5f88d94-f42b-4237-9fb4-17738223cf07",
   "metadata": {},
   "outputs": [],
   "source": [
    "adquires_wages_expense = players_to_acquire['Wage'].sum()*12\n",
    "adquires_wages_expense"
   ]
  },
  {
   "cell_type": "code",
   "execution_count": null,
   "id": "de34d530-92f5-4d67-976c-ee4db431c35e",
   "metadata": {},
   "outputs": [],
   "source": [
    "releases_clauses_paid =  players_to_acquire['Release Clause'].sum()\n",
    "releases_clauses_paid"
   ]
  },
  {
   "cell_type": "code",
   "execution_count": null,
   "id": "a7d771ce-2bb1-4869-8c2e-b2f0d02fd669",
   "metadata": {},
   "outputs": [],
   "source": [
    "players_to_loan "
   ]
  },
  {
   "cell_type": "code",
   "execution_count": null,
   "id": "fccf0f09-be1e-42fa-a883-65c5d6e7e9cd",
   "metadata": {},
   "outputs": [],
   "source": [
    "loan_wages_expense = players_to_loan['Wage'].sum()*12\n",
    "loan_wages_expense"
   ]
  },
  {
   "cell_type": "code",
   "execution_count": null,
   "id": "7e7d1d61-7ea0-4170-86e8-af0cd93dfee6",
   "metadata": {},
   "outputs": [],
   "source": [
    "releases_clauses_loan =  (players_to_loan['Release Clause'].sum())*0.10\n",
    "releases_clauses_loan "
   ]
  },
  {
   "cell_type": "markdown",
   "id": "190c1c99-6690-407b-868a-38541b7d53c4",
   "metadata": {},
   "source": [
    "The budget impact is as follows:"
   ]
  },
  {
   "cell_type": "code",
   "execution_count": null,
   "id": "da7791a5-65af-4cd9-8a7e-db8477e334dd",
   "metadata": {},
   "outputs": [],
   "source": [
    "#Cash Flow from the changes\n",
    "\n",
    "cash_flow = releases_wages_expense + releases_clauses_received - adquires_wages_expense - releases_clauses_paid + loan_wages_expense + releases_clauses_loan \n",
    "cash_flow"
   ]
  },
  {
   "cell_type": "markdown",
   "id": "7929ee3a-4a52-46d7-8ce9-a4f31ad143bf",
   "metadata": {},
   "source": [
    "## New team"
   ]
  },
  {
   "cell_type": "code",
   "execution_count": null,
   "id": "19960477-dccd-4d01-9f64-521fddb1de1f",
   "metadata": {},
   "outputs": [],
   "source": [
    "ac_milan_players_final = ac_milan_players.sort_values(by='BOV', ascending= False).reset_index(drop=True)\n",
    "ac_milan_players_final = ac_milan_players_final.drop(columns=['Team & Contract', 'start_year','end_year','Club'])\n",
    "ac_milan_players_final = ac_milan_players_final.drop([27,32,28,29,22,2,23,24])\n",
    "ac_milan_players_final = pd.concat([ac_milan_players_final , players_to_acquire], ignore_index=True)\n",
    "ac_milan_players_final"
   ]
  },
  {
   "cell_type": "code",
   "execution_count": null,
   "id": "f38f055e-2001-422a-bb20-ec4380ba73f6",
   "metadata": {},
   "outputs": [],
   "source": [
    "new_ac_milan_stats = ac_milan_players_final.groupby(['BP']).agg({'BOV':'mean'})"
   ]
  },
  {
   "cell_type": "code",
   "execution_count": null,
   "id": "9cb05495-c1cd-46a2-ae5a-82822a472750",
   "metadata": {},
   "outputs": [],
   "source": [
    "final_stats_comparison = pd.merge(new_ac_milan_stats, ac_milan_stats,  on='BP', how='left')\n",
    "final_stats_comparison.fillna(0, inplace=True)\n",
    "final_stats_comparison = final_stats_comparison.rename(columns = {'BOV_x' : 'New AC Milan avg. BOV', 'BOV_y' : 'Old AC Milan avg. BOV'})"
   ]
  },
  {
   "cell_type": "code",
   "execution_count": null,
   "id": "e500ae22-c4d9-40c1-ba12-10f98af33cb4",
   "metadata": {},
   "outputs": [],
   "source": [
    "final_stats_comparison['Comparison'] = ((((final_stats_comparison['New AC Milan avg. BOV'] - final_stats_comparison['Old AC Milan avg. BOV'])/final_stats_comparison['Old AC Milan avg. BOV'])*100))\n",
    "final_stats_comparison['Comparison'] = (final_stats_comparison['Comparison'].replace(np.inf, 100))\n",
    "final_stats_comparison['Comparison'] = (final_stats_comparison['Comparison'].astype(int)).astype(str) + '%'"
   ]
  },
  {
   "cell_type": "code",
   "execution_count": null,
   "id": "f45cbf1d-a6cc-4a5d-a471-8e648be6e7f9",
   "metadata": {},
   "outputs": [],
   "source": [
    "final_stats_comparison"
   ]
  },
  {
   "cell_type": "code",
   "execution_count": null,
   "id": "e1a6ec17-3aa1-44b6-aa93-eb165efb5727",
   "metadata": {},
   "outputs": [],
   "source": [
    "average_BOV = final_stats_comparison['Old AC Milan avg. BOV'].mean()\n",
    "print(average_BOV)"
   ]
  },
  {
   "cell_type": "code",
   "execution_count": null,
   "id": "b8f210a7-01d1-431a-b33c-ac44b7574259",
   "metadata": {},
   "outputs": [],
   "source": [
    "average_BOV_new = final_stats_comparison['New AC Milan avg. BOV'].mean()\n",
    "print(average_BOV_new)"
   ]
  },
  {
   "cell_type": "code",
   "execution_count": null,
   "id": "d4220da0-c26f-4ea4-a576-cec8e545b790",
   "metadata": {},
   "outputs": [],
   "source": [
    "#Previous expense\n",
    "wages_expense"
   ]
  },
  {
   "cell_type": "code",
   "execution_count": null,
   "id": "e002bc89-0d4b-4729-8db9-6d4400a33361",
   "metadata": {},
   "outputs": [],
   "source": [
    "new_wages_expense = (ac_milan_players_final['Wage'].sum())*12\n",
    "new_wages_expense"
   ]
  },
  {
   "cell_type": "code",
   "execution_count": null,
   "id": "5d2e5eb5-a604-4ac1-bfd4-7efea0ec10da",
   "metadata": {},
   "outputs": [],
   "source": [
    "Difference = wages_expense - new_wages_expense\n",
    "Difference"
   ]
  }
 ],
 "metadata": {
  "kernelspec": {
   "display_name": "Python 3 (ipykernel)",
   "language": "python",
   "name": "python3"
  },
  "language_info": {
   "codemirror_mode": {
    "name": "ipython",
    "version": 3
   },
   "file_extension": ".py",
   "mimetype": "text/x-python",
   "name": "python",
   "nbconvert_exporter": "python",
   "pygments_lexer": "ipython3",
   "version": "3.9.13"
  }
 },
 "nbformat": 4,
 "nbformat_minor": 5
}
